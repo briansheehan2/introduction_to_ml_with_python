{
 "cells": [
  {
   "cell_type": "code",
   "execution_count": 15,
   "id": "b2df257a",
   "metadata": {},
   "outputs": [
    {
     "name": "stdout",
     "output_type": "stream",
     "text": [
      "K-Fold Cross Validation with KNN Classifier\n",
      "Cross Validation Scores:  [1.         1.         0.33333333 0.83333333 0.5        1.\n",
      " 0.8        1.         0.8       ]\n",
      "Average CV Score:  0.8074074074074074\n",
      "Number of CV Scores used in Average:  9\n"
     ]
    }
   ],
   "source": [
    "from sklearn.model_selection import KFold, cross_val_score\n",
    "from sklearn.neighbors import KNeighborsClassifier\n",
    "import pandas as pd\n",
    "\n",
    "print(\"K-Fold Cross Validation with KNN Classifier\")\n",
    "\n",
    "df=pd.read_csv('Collected Zumi Data from 4-24-2024 CSV.csv')\n",
    "df.head()\n",
    "\n",
    "X=df[['front_left','front_right']]\n",
    "y=df['label']\n",
    "\n",
    "k_folds = KFold(n_splits = 9)\n",
    "\n",
    "k=2\n",
    "knn = KNeighborsClassifier(n_neighbors=k)\n",
    "\n",
    "scores = cross_val_score(knn, X, y, cv = k_folds)\n",
    "\n",
    "knn.fit(X, y)\n",
    "\n",
    "#y_pred = knn.predict(X)\n",
    "\n",
    "#print(classification_report(y_test, y_pred))\n",
    "\n",
    "print(\"Cross Validation Scores: \", scores)\n",
    "print(\"Average CV Score: \", scores.mean())\n",
    "print(\"Number of CV Scores used in Average: \", len(scores))\n"
   ]
  },
  {
   "cell_type": "code",
   "execution_count": null,
   "id": "61430437",
   "metadata": {},
   "outputs": [],
   "source": []
  },
  {
   "cell_type": "code",
   "execution_count": null,
   "id": "9a85c18a",
   "metadata": {},
   "outputs": [],
   "source": []
  }
 ],
 "metadata": {
  "kernelspec": {
   "display_name": "Python 3 (ipykernel)",
   "language": "python",
   "name": "python3"
  },
  "language_info": {
   "codemirror_mode": {
    "name": "ipython",
    "version": 3
   },
   "file_extension": ".py",
   "mimetype": "text/x-python",
   "name": "python",
   "nbconvert_exporter": "python",
   "pygments_lexer": "ipython3",
   "version": "3.11.5"
  }
 },
 "nbformat": 4,
 "nbformat_minor": 5
}
