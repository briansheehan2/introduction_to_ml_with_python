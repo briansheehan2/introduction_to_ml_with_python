{
 "cells": [
  {
   "cell_type": "code",
   "execution_count": 1,
   "id": "ef4e8114",
   "metadata": {},
   "outputs": [],
   "source": [
    "# import numpy as np\n",
    "# import pandas as pd\n",
    "# import matplotlib.pyplot as plt\n",
    "# from sklearn.model_selection import train_test_split\n",
    "# from sklearn.neighbors import KNeighborsClassifier\n",
    "# from sklearn.metrics import classification_report\n",
    "# from sklearn.metrics import accuracy_score\n",
    "# import random\n",
    "\n",
    "# df=pd.read_csv('Collected Zumi Data from 4-24-2024 CSV.csv')\n",
    "# classes = [1,1,1,1,1,\n",
    "#            2,2,2,2,2,\n",
    "#            1,1,1,1,1,\n",
    "#            1,1,1,1,1,\n",
    "#            1,1,1,1,1,\n",
    "#            1,1,1,1,1,\n",
    "#            2,2,2,2,2,\n",
    "#            2,2,2,2,2,\n",
    "#            2,2,2,2,2,\n",
    "#            2,2,2,2,2]\n",
    "            \n",
    "# #claasses = ['object']\n",
    "\n",
    "# plt.scatter(df['front_left'],df['front_right'],c=classes)\n",
    "# plt.xlabel('Front Left IR Value')\n",
    "# plt.ylabel('Front Right IR Value')\n",
    "# plt.title('IR Sensor Readings for Different Obstacles')\n",
    "# plt.grid(True)\n",
    "\n"
   ]
  },
  {
   "cell_type": "code",
   "execution_count": 2,
   "id": "3cf0a26c",
   "metadata": {},
   "outputs": [],
   "source": [
    "# X=df[['front_left','front_right']]\n",
    "\n",
    "# clean_signal = X\n",
    "# #print(clean_signal)\n",
    "\n",
    "# mu, sigma = random.randrange(0, 30), random.randrange(0, 30)\n",
    "# # creating a noise with the same dimension as the dataset (2,2) \n",
    "# noise = np.random.normal(mu, sigma, [2]) \n",
    "\n",
    "\n",
    "# df[['front_left_noise','front_right_noise']] = clean_signal + noise\n",
    "# #print(df[['front_left_noise','front_right_noise']])\n",
    "\n",
    "# plt.scatter(df['front_left_noise'],df['front_right_noise'],c=classes)\n",
    "# plt.xlabel('Front Left IR Value')\n",
    "# plt.ylabel('Front Right IR Value')\n",
    "# plt.title('IR Sensor Readings for Different Obstacles with Noise')\n",
    "# plt.grid(True)"
   ]
  },
  {
   "cell_type": "code",
   "execution_count": 3,
   "id": "45edab6d",
   "metadata": {},
   "outputs": [],
   "source": [
    "#Code for adding gaussian noise to Zumi Data\n",
    "# Function to collect data.\n",
    "import random\n",
    "def collect_data(obstacle_label):\n",
    "    # Read from front infrared sensors.\n",
    "    front_left_clean = zumi.get_IR_data(IR_FRONT_LEFT)\n",
    "    front_right_clean = zumi.get_IR_data(IR_FRONT_RIGHT)\n",
    "    \n",
    "    #generating random noise\n",
    "    mu, sigma = random.randrange(1, .8), random.randrange(0, 30)\n",
    "    noise = np.random.normal(mu, sigma, [2]) \n",
    "    \n",
    "    #adding random noise\n",
    "    front_left = front_left_clean + noise\n",
    "    front_right = front_right_clean + noise\n",
    "    \n",
    "    # Create a dictionary for each data point and then append it to the data list\n",
    "    data_point = {'front_left': front_left, 'front_right': front_right, 'label': obstacle_label}\n",
    "    data.append(data_point)\n",
    "    \n",
    "    return data_point\n"
   ]
  },
  {
   "cell_type": "code",
   "execution_count": null,
   "id": "ca5e204c",
   "metadata": {},
   "outputs": [],
   "source": []
  },
  {
   "cell_type": "code",
   "execution_count": null,
   "id": "c8b9db20",
   "metadata": {},
   "outputs": [],
   "source": []
  }
 ],
 "metadata": {
  "kernelspec": {
   "display_name": "Python 3 (ipykernel)",
   "language": "python",
   "name": "python3"
  },
  "language_info": {
   "codemirror_mode": {
    "name": "ipython",
    "version": 3
   },
   "file_extension": ".py",
   "mimetype": "text/x-python",
   "name": "python",
   "nbconvert_exporter": "python",
   "pygments_lexer": "ipython3",
   "version": "3.11.5"
  }
 },
 "nbformat": 4,
 "nbformat_minor": 5
}
