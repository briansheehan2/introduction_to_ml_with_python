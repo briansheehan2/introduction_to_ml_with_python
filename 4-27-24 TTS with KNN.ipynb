{
 "cells": [
  {
   "cell_type": "code",
   "execution_count": 3,
   "id": "2d162869",
   "metadata": {},
   "outputs": [
    {
     "name": "stdout",
     "output_type": "stream",
     "text": [
      "Train Test Split with KNN Classifier\n",
      "              precision    recall  f1-score   support\n",
      "\n",
      " plastic cup       0.71      0.71      0.71         7\n",
      "    soft toy       0.33      0.33      0.33         3\n",
      "\n",
      "    accuracy                           0.60        10\n",
      "   macro avg       0.52      0.52      0.52        10\n",
      "weighted avg       0.60      0.60      0.60        10\n",
      "\n",
      "Accuracy =  0.6\n"
     ]
    }
   ],
   "source": [
    "print(\"Train Test Split with KNN Classifier\")\n",
    "from sklearn.model_selection import train_test_split\n",
    "from sklearn.neighbors import KNeighborsClassifier\n",
    "from sklearn.metrics import classification_report\n",
    "from sklearn.model_selection import train_test_split\n",
    "import pandas as pd\n",
    "from sklearn.model_selection import KFold, cross_val_score\n",
    "\n",
    "df=pd.read_csv('Collected Zumi Data from 4-24-2024 CSV.csv')\n",
    "df.head()\n",
    "\n",
    "X=df[['front_left','front_right']]\n",
    "y=df['label']\n",
    "\n",
    "X_train, X_test, y_train, y_test = train_test_split(X,y,test_size=0.2, random_state=10)\n",
    "\n",
    "\n",
    "k=8\n",
    "knn = KNeighborsClassifier(n_neighbors=k)\n",
    "\n",
    "# Train the classifier.\n",
    "knn.fit(X_train, y_train)\n",
    "\n",
    "# Print out classification report\n",
    "y_pred = knn.predict(X_test)\n",
    "\n",
    "print(classification_report(y_test, y_pred))\n",
    "\n",
    "from sklearn.metrics import accuracy_score\n",
    "\n",
    "\n",
    "\n",
    "\n",
    "y_pred = knn.predict(X_test)\n",
    "accuracy1 = accuracy_score(y_test, y_pred)\n",
    "print(\"Accuracy = \",accuracy1)\n"
   ]
  },
  {
   "cell_type": "code",
   "execution_count": null,
   "id": "f7aec93f",
   "metadata": {},
   "outputs": [],
   "source": []
  }
 ],
 "metadata": {
  "kernelspec": {
   "display_name": "Python 3 (ipykernel)",
   "language": "python",
   "name": "python3"
  },
  "language_info": {
   "codemirror_mode": {
    "name": "ipython",
    "version": 3
   },
   "file_extension": ".py",
   "mimetype": "text/x-python",
   "name": "python",
   "nbconvert_exporter": "python",
   "pygments_lexer": "ipython3",
   "version": "3.11.5"
  }
 },
 "nbformat": 4,
 "nbformat_minor": 5
}
