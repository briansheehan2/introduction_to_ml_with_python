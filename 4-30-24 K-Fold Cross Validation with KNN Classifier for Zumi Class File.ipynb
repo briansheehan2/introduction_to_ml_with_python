{
 "cells": [
  {
   "cell_type": "code",
   "execution_count": 8,
   "id": "609d09cc",
   "metadata": {},
   "outputs": [
    {
     "name": "stdout",
     "output_type": "stream",
     "text": [
      "K-Fold Cross Validation with KNN Classifier\n",
      "Cross Validation Scores:  [1.         1.         0.33333333 0.83333333 0.5        1.\n",
      " 0.8        1.         0.8       ]\n",
      "Average CV Score:  0.8074074074074074\n",
      "Number of CV Scores used in Average:  9\n"
     ]
    }
   ],
   "source": [
    "# from sklearn.model_selection import KFold, cross_val_score\n",
    "# from sklearn.neighbors import KNeighborsClassifier\n",
    "# import pandas as pd\n",
    "\n",
    "# print(\"K-Fold Cross Validation with KNN Classifier\")\n",
    "\n",
    "# df=pd.read_csv('Collected Zumi Data from 4-24-2024 CSV.csv')\n",
    "# df.head()\n",
    "\n",
    "# X=df[['front_left','front_right']]\n",
    "# y=df['label']\n",
    "\n",
    "# k_folds = KFold(n_splits = 9)\n",
    "\n",
    "# k=2\n",
    "# knn = KNeighborsClassifier(n_neighbors=k)\n",
    "\n",
    "# scores = cross_val_score(knn, X, y, cv = k_folds)\n",
    "\n",
    "# knn.fit(X, y)\n",
    "\n",
    "# print(\"Cross Validation Scores: \", scores)\n",
    "# print(\"Average CV Score: \", scores.mean())\n",
    "# print(\"Number of CV Scores used in Average: \", len(scores))"
   ]
  },
  {
   "cell_type": "code",
   "execution_count": 9,
   "id": "aa688380",
   "metadata": {},
   "outputs": [
    {
     "ename": "NameError",
     "evalue": "name 'data' is not defined",
     "output_type": "error",
     "traceback": [
      "\u001b[1;31m---------------------------------------------------------------------------\u001b[0m",
      "\u001b[1;31mNameError\u001b[0m                                 Traceback (most recent call last)",
      "Cell \u001b[1;32mIn[9], line 5\u001b[0m\n\u001b[0;32m      2\u001b[0m \u001b[38;5;28;01mfrom\u001b[39;00m \u001b[38;5;21;01msklearn\u001b[39;00m\u001b[38;5;21;01m.\u001b[39;00m\u001b[38;5;21;01mneighbors\u001b[39;00m \u001b[38;5;28;01mimport\u001b[39;00m KNeighborsClassifier\n\u001b[0;32m      3\u001b[0m \u001b[38;5;28;01mfrom\u001b[39;00m \u001b[38;5;21;01msklearn\u001b[39;00m\u001b[38;5;21;01m.\u001b[39;00m\u001b[38;5;21;01mmetrics\u001b[39;00m \u001b[38;5;28;01mimport\u001b[39;00m classification_report\n\u001b[1;32m----> 5\u001b[0m X \u001b[38;5;241m=\u001b[39m [[row[\u001b[38;5;124m'\u001b[39m\u001b[38;5;124mfront_left\u001b[39m\u001b[38;5;124m'\u001b[39m], row[\u001b[38;5;124m'\u001b[39m\u001b[38;5;124mfront_right\u001b[39m\u001b[38;5;124m'\u001b[39m]] \u001b[38;5;28;01mfor\u001b[39;00m row \u001b[38;5;129;01min\u001b[39;00m data]\n\u001b[0;32m      6\u001b[0m y \u001b[38;5;241m=\u001b[39m [row[\u001b[38;5;124m'\u001b[39m\u001b[38;5;124mlabel\u001b[39m\u001b[38;5;124m'\u001b[39m] \u001b[38;5;28;01mfor\u001b[39;00m row \u001b[38;5;129;01min\u001b[39;00m data]\n\u001b[0;32m      8\u001b[0m k_folds \u001b[38;5;241m=\u001b[39m KFold(n_splits \u001b[38;5;241m=\u001b[39m \u001b[38;5;241m9\u001b[39m)\n",
      "\u001b[1;31mNameError\u001b[0m: name 'data' is not defined"
     ]
    }
   ],
   "source": [
    "from sklearn.model_selection import train_test_split\n",
    "from sklearn.neighbors import KNeighborsClassifier\n",
    "from sklearn.metrics import classification_report\n",
    "\n",
    "X = [[row['front_left'], row['front_right']] for row in data]\n",
    "y = [row['label'] for row in data]\n",
    "\n",
    "k_folds = KFold(n_splits = 9)\n",
    "\n",
    "k = 3  # For simplicity, we'll start with k=3.\n",
    "knn = KNeighborsClassifier(n_neighbors=k)\n",
    "\n",
    "# Train the classifier.\n",
    "knn.fit(X,y)\n",
    "\n",
    "print(\"Cross Validation Scores: \", scores)\n",
    "print(\"Average CV Score: \", scores.mean())\n",
    "print(\"Number of CV Scores used in Average: \", len(scores))"
   ]
  },
  {
   "cell_type": "code",
   "execution_count": null,
   "id": "db29b758",
   "metadata": {},
   "outputs": [],
   "source": []
  }
 ],
 "metadata": {
  "kernelspec": {
   "display_name": "Python 3 (ipykernel)",
   "language": "python",
   "name": "python3"
  },
  "language_info": {
   "codemirror_mode": {
    "name": "ipython",
    "version": 3
   },
   "file_extension": ".py",
   "mimetype": "text/x-python",
   "name": "python",
   "nbconvert_exporter": "python",
   "pygments_lexer": "ipython3",
   "version": "3.11.5"
  }
 },
 "nbformat": 4,
 "nbformat_minor": 5
}
