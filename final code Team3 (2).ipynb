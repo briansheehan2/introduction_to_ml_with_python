{
 "cells": [
  {
   "cell_type": "code",
   "execution_count": 1,
   "id": "8ed97106",
   "metadata": {},
   "outputs": [],
   "source": [
    "import csv  # Import the csv module to work with CSV files\n",
    "import matplotlib.pyplot as plt\n",
    "from sklearn.metrics import confusion_matrix\n",
    "from sklearn.model_selection import train_test_split\n",
    "from sklearn.neighbors import KNeighborsClassifier\n",
    "from sklearn.metrics import classification_report\n",
    "from sklearn.metrics import accuracy_score\n",
    "from sklearn.metrics import accuracy_score\n",
    "from sklearn.model_selection import KFold, cross_val_score\n",
    "from sklearn.model_selection import train_test_split\n",
    "from sklearn.metrics import classification_report\n",
    "from sklearn.metrics import accuracy_score\n",
    "from sklearn.model_selection import train_test_split\n",
    "from sklearn.tree import DecisionTreeClassifier\n",
    "from sklearn.metrics import accuracy_score, classification_report\n",
    "import pickle\n",
    "import random"
   ]
  },
  {
   "cell_type": "code",
   "execution_count": 2,
   "id": "5b13e0b5",
   "metadata": {},
   "outputs": [],
   "source": [
    "from zumi.zumi import Zumi\n",
    "from zumi.util.screen import Screen\n",
    "import time\n",
    "\n",
    "zumi = Zumi()\n",
    "screen = Screen()\n",
    "\n",
    " Try loading previous data, if exists. Otherwise, start with an empty list.\n",
    " This will store our sensor readings and labels.\n",
    "try:\n",
    "   with open('zumi_data.pkl', 'rb') as file:\n",
    "       data = pickle.load(file)\n",
    "except FileNotFoundError:\n",
    "      data = [] # This will store our sensor readings and labels.\n",
    "        \n",
    "IR_FRONT_RIGHT = 0\n",
    "IR_FRONT_LEFT = 5\n",
    "\n",
    " #Function to collect data.\n",
    "#def collect_data(obstacle_label):\n",
    "     #Read from front infrared sensors.\n",
    "#    front_left = zumi.get_IR_data(IR_FRONT_LEFT)\n",
    "#    front_right = zumi.get_IR_data(IR_FRONT_RIGHT)\n",
    "    \n",
    "    #Create a dictionary for each data point and then append it to the data list\n",
    "  #  data_point = {'front_left': front_left, 'front_right': front_right, 'label': obstacle_label}\n",
    " #   data.append(data_point)\n",
    "    \n",
    "    #return data_point\n",
    "\n",
    "def collect_data(obstacle_label):\n",
    "    # Read from front infrared sensors.\n",
    "    front_left_clean = zumi.get_IR_data(IR_FRONT_LEFT)\n",
    "    front_right_clean = zumi.get_IR_data(IR_FRONT_RIGHT)\n",
    "    \n",
    "    #generating random noise\n",
    "    mu, sigma = random.randrange(1, .8), random.randrange(0, 30)\n",
    "    noise = np.random.normal(mu, sigma, [2]) \n",
    "    \n",
    "    #adding random noise\n",
    "    front_left = front_left_clean + noise\n",
    "    front_right = front_right_clean + noise\n",
    "    \n",
    "    # Create a dictionary for each data point and then append it to the data list\n",
    "    data_point = {'front_left': front_left, 'front_right': front_right, 'label': obstacle_label}\n",
    "    data.append(data_point)\n",
    "    \n",
    "    return data_point"
   ]
  },
  {
   "cell_type": "code",
   "execution_count": 3,
   "id": "b48c0717",
   "metadata": {},
   "outputs": [],
   "source": [
    "# Data to use at home \n",
    "\n",
    "data = []  # Define an empty list to store the imported data\n",
    "\n",
    "# Load the data from the .pkl file\n",
    "with open('random_data.pkl', 'rb') as file:\n",
    "    data = pickle.load(file)\n"
   ]
  },
  {
   "cell_type": "code",
   "execution_count": 4,
   "id": "61afd838",
   "metadata": {},
   "outputs": [],
   "source": [
    " #Collecting multiple readings for soft toy.\n",
    "#print(\"Drive Zumi near the soft toy and press Enter...\")\n",
    "#for _ in range(5):  # Change this number if you want to collect more or fewer readings.\n",
    "   # input()\n",
    "  #  collect_data('soft toy')\n",
    " #   print(\"Collected data for soft toy. Continue or move to the next position.\")\n",
    "    \n",
    " #Collecting multiple readings for plastic cup.\n",
    "#print(\"\\nDrive Zumi near the plastic cup and press Enter...\")\n",
    "#for _ in range(5):  # Change this number if you want to collect more or fewer readings.\n",
    "    #input()\n",
    "    #collect_data('plastic cup')\n",
    "    #print(\"Collected data for plastic cup. Continue or move to the next position.\")\n",
    "\n",
    "#Saving the updated data for future use.\n",
    "#with open('zumi_data.pkl', 'wb') as file:\n",
    "   # pickle.dump(data, file)\n",
    "\n",
    "#print(\"\\nData collection complete and saved!\")\n"
   ]
  },
  {
   "cell_type": "code",
   "execution_count": 4,
   "id": "aa48869c",
   "metadata": {},
   "outputs": [
    {
     "name": "stdout",
     "output_type": "stream",
     "text": [
      "\n",
      "Collected Data:\n",
      "front_left front_right label\n",
      "228 203 soft toy\n",
      "238 211 soft toy\n",
      "225 203 soft toy\n",
      "215 210 plastic cup\n",
      "222 182 soft toy\n",
      "224 193 plastic cup\n",
      "240 207 plastic cup\n",
      "238 189 soft toy\n",
      "240 202 soft toy\n",
      "219 204 soft toy\n",
      "237 207 soft toy\n",
      "223 185 plastic cup\n",
      "236 187 plastic cup\n",
      "210 218 plastic cup\n",
      "226 190 soft toy\n",
      "227 195 plastic cup\n",
      "228 218 plastic cup\n",
      "214 186 plastic cup\n",
      "224 181 soft toy\n",
      "234 210 soft toy\n",
      "200 191 plastic cup\n",
      "233 209 plastic cup\n",
      "221 202 plastic cup\n",
      "208 212 plastic cup\n",
      "209 211 soft toy\n",
      "230 216 plastic cup\n",
      "214 217 soft toy\n",
      "203 213 plastic cup\n",
      "235 219 soft toy\n",
      "225 192 soft toy\n",
      "219 202 plastic cup\n",
      "205 204 plastic cup\n",
      "240 213 soft toy\n",
      "227 214 soft toy\n",
      "219 203 soft toy\n",
      "236 196 plastic cup\n",
      "213 185 soft toy\n",
      "232 184 plastic cup\n",
      "239 200 plastic cup\n",
      "208 219 plastic cup\n",
      "202 216 soft toy\n",
      "227 205 plastic cup\n",
      "210 185 plastic cup\n",
      "217 180 plastic cup\n",
      "228 207 soft toy\n",
      "231 208 soft toy\n",
      "203 207 plastic cup\n",
      "221 181 soft toy\n",
      "224 213 soft toy\n",
      "214 218 plastic cup\n"
     ]
    }
   ],
   "source": [
    "# 2. Storing & Visualizing Data (Original title )\n",
    "\n",
    "# Display data in a tabular format\n",
    "print(\"\\nCollected Data:\")\n",
    "\n",
    "# Print header\n",
    "print(\"front_left\", \"front_right\", \"label\")\n",
    "\n",
    "# Print data\n",
    "for row in data:\n",
    "    print(row['front_left'], row['front_right'], row['label'])"
   ]
  },
  {
   "cell_type": "code",
   "execution_count": 5,
   "id": "caa134ba",
   "metadata": {},
   "outputs": [],
   "source": [
    "# We will create a dictionary to hold our groups\n",
    "grouped_data = {}\n",
    "\n",
    "# Define markers and colors for each label\n",
    "\n",
    "markers = {'plastic cup': 'o', 'soft toy': 's'}\n",
    "\n",
    "colors = {'plastic cup': 'r', 'soft toy': 'b'}\n",
    "\n",
    "# Iterate over the data to populate the dictionary\n",
    "\n",
    "for row in data:\n",
    "\n",
    "    label = row['label']\n",
    "\n",
    "    if label not in grouped_data:\n",
    "\n",
    "        grouped_data[label] = {'front_left': [], 'front_right': [], 'marker': markers[label], 'color': colors[label]}\n",
    "\n",
    "    grouped_data[label]['front_left'].append(row['front_left'])\n",
    "\n",
    "    grouped_data[label]['front_right'].append(row['front_right'])"
   ]
  },
  {
   "cell_type": "code",
   "execution_count": 6,
   "id": "1c20bc80",
   "metadata": {},
   "outputs": [
    {
     "data": {
      "image/png": "[encoded data removed]",
      "text/plain": [
       "<Figure size 640x480 with 1 Axes>"
      ]
     },
     "metadata": {},
     "output_type": "display_data"
    }
   ],
   "source": [
    "# Plotting\n",
    "\n",
    "fig, ax = plt.subplots()\n",
    "\n",
    "for label, group in grouped_data.items():\n",
    "\n",
    "    ax.scatter(group['front_left'], group['front_right'], marker=group['marker'], color=group['color'], label=label)\n",
    "\n",
    "\n",
    "ax.legend()\n",
    "\n",
    "\n",
    "plt.xlabel('Front Left IR Value')\n",
    "\n",
    "plt.ylabel('Front Right IR Value')\n",
    "\n",
    "plt.title('IR Sensor Readings for Different Obstacles')\n",
    "\n",
    "plt.grid(True)\n",
    "\n",
    "plt.show()"
   ]
  },
  {
   "cell_type": "code",
   "execution_count": 7,
   "id": "01fa3bc6",
   "metadata": {},
   "outputs": [
    {
     "name": "stdout",
     "output_type": "stream",
     "text": [
      "              precision    recall  f1-score   support\n",
      "\n",
      " plastic cup       0.57      0.57      0.57         7\n",
      "    soft toy       0.62      0.62      0.62         8\n",
      "\n",
      "    accuracy                           0.60        15\n",
      "   macro avg       0.60      0.60      0.60        15\n",
      "weighted avg       0.60      0.60      0.60        15\n",
      "\n"
     ]
    }
   ],
   "source": [
    "# 4. Implementing & Training k-NN (Orignal Title)\n",
    "\n",
    "# Split the data into training and test sets.\n",
    "\n",
    "X = [[row['front_left'], row['front_right']] for row in data]\n",
    "y = [row['label'] for row in data]\n",
    "\n",
    "X_train, X_test, y_train, y_test = train_test_split(X, y, test_size=0.3)\n",
    "\n",
    "k = 7  # For simplicity, we'll start with k=3.\n",
    "knn = KNeighborsClassifier(n_neighbors=k)\n",
    "\n",
    "# Convert string values to floating-point numbers (data from csv are recongnized as strings)\n",
    "X_train = [[float(value) for value in row] for row in X_train]\n",
    "X_test = [[float(value) for value in row] for row in X_test]\n",
    "\n",
    "# Train the classifier.\n",
    "knn.fit(X_train, y_train)\n",
    "\n",
    "# Print out classification report\n",
    "y_pred_knn = knn.predict(X_test)\n",
    "\n",
    "print(classification_report(y_test, y_pred_knn))"
   ]
  },
  {
   "cell_type": "code",
   "execution_count": 8,
   "id": "4ad747c6",
   "metadata": {},
   "outputs": [
    {
     "data": {
      "text/plain": [
       "0.6"
      ]
     },
     "execution_count": 8,
     "metadata": {},
     "output_type": "execute_result"
    }
   ],
   "source": [
    "# 6. Evaluation\n",
    "\n",
    "y_pred_knn = knn.predict(X_test)\n",
    "accuracy = accuracy_score(y_test, y_pred_knn)\n",
    "accuracy"
   ]
  },
  {
   "cell_type": "markdown",
   "id": "e97bf41e",
   "metadata": {},
   "source": [
    "### Hyperparameter Tuning\n",
    "**Challenge**: Wouldnt print the the K values and accuracy scores correctly.\n",
    "\n",
    "**Solution**: A simple python syntax basically the \"f-string\" to allow expression in string literals. "
   ]
  },
  {
   "cell_type": "code",
   "execution_count": 9,
   "id": "8760826d",
   "metadata": {},
   "outputs": [
    {
     "name": "stdout",
     "output_type": "stream",
     "text": [
      "k = 1: Accuracy = 0.3333333333333333\n",
      "k = 3: Accuracy = 0.5333333333333333\n",
      "k = 5: Accuracy = 0.6\n",
      "k = 7: Accuracy = 0.6\n",
      "k = 9: Accuracy = 0.6666666666666666\n",
      "k = 11: Accuracy = 0.4\n",
      "k = 13: Accuracy = 0.6\n",
      "k = 15: Accuracy = 0.6666666666666666\n"
     ]
    }
   ],
   "source": [
    "# Define the range of k values to explore\n",
    "k_values = [1, 3, 5, 7, 9, 11, 13, 15]  # Add more values as needed\n",
    "\n",
    "# Create lists to store accuracy scores and corresponding k values\n",
    "accuracy_scores = []\n",
    "k_values_used = []\n",
    "\n",
    "# Loop over each value of k\n",
    "for k in k_values:\n",
    "    # Create a k-NN classifier with the current value of k\n",
    "    knn = KNeighborsClassifier(n_neighbors=k)\n",
    "    \n",
    "    # Split the data into training and test sets\n",
    "    X_train, X_test, y_train, y_test = train_test_split(X, y, test_size=0.3)\n",
    "    \n",
    "    # Train the classifier\n",
    "    knn.fit(X_train, y_train)\n",
    "    \n",
    "    # Make predictions on the test set\n",
    "    y_pred = knn.predict(X_test)\n",
    "    \n",
    "    # Calculate accuracy and store it along with the corresponding k value\n",
    "    accuracy = accuracy_score(y_test, y_pred)\n",
    "    accuracy_scores.append(accuracy)\n",
    "    k_values_used.append(k)\n",
    "\n",
    "# Print the accuracy scores and corresponding k values\n",
    "for i in range(len(k_values_used)):\n",
    "    k = k_values_used[i]\n",
    "    accuracy = accuracy_scores[i]\n",
    "    print(f\"k = {k}: Accuracy = {accuracy}\")"
   ]
  },
  {
   "cell_type": "markdown",
   "id": "3afc8281",
   "metadata": {},
   "source": [
    "### Decision tree model comparison\n",
    "**Challenge**: Code was outputting 1:1 identical results\n",
    "\n",
    "**Solution**: didnt seperate the knn and tree results i.e accuracy and y_pred"
   ]
  },
  {
   "cell_type": "code",
   "execution_count": 10,
   "id": "1159615a",
   "metadata": {},
   "outputs": [
    {
     "name": "stdout",
     "output_type": "stream",
     "text": [
      "Decision Tree Classifier:\n",
      "              precision    recall  f1-score   support\n",
      "\n",
      " plastic cup       0.83      0.45      0.59        11\n",
      "    soft toy       0.33      0.75      0.46         4\n",
      "\n",
      "    accuracy                           0.53        15\n",
      "   macro avg       0.58      0.60      0.52        15\n",
      "weighted avg       0.70      0.53      0.55        15\n",
      "\n",
      "Accuracy: 0.5333333333333333\n",
      "\n",
      "k-NN Classifier:\n",
      "              precision    recall  f1-score   support\n",
      "\n",
      " plastic cup       0.71      0.45      0.56        11\n",
      "    soft toy       0.25      0.50      0.33         4\n",
      "\n",
      "    accuracy                           0.47        15\n",
      "   macro avg       0.48      0.48      0.44        15\n",
      "weighted avg       0.59      0.47      0.50        15\n",
      "\n",
      "Accuracy: 0.4666666666666667\n"
     ]
    }
   ],
   "source": [
    "# Split the data into training and test sets.\n",
    "X_train, X_test, y_train, y_test = train_test_split(X, y, test_size=0.3)\n",
    "\n",
    "# Create an instance of DecisionTreeClassifier\n",
    "decision_tree = DecisionTreeClassifier()\n",
    "\n",
    "# Train the Decision Tree classifier\n",
    "decision_tree.fit(X_train, y_train)\n",
    "\n",
    "# Make predictions on the test data using the Decision Tree classifier\n",
    "y_pred_dt = decision_tree.predict(X_test)\n",
    "\n",
    "# Print out classification report and accuracy for Decision Tree classifier\n",
    "print(\"Decision Tree Classifier:\")\n",
    "print(classification_report(y_test, y_pred_dt))\n",
    "accuracy_dt = accuracy_score(y_test, y_pred_dt)\n",
    "print(\"Accuracy:\", accuracy_dt)\n",
    "\n",
    "y_pred_knn = knn.predict(X_test)\n",
    "\n",
    "# Print out classification report and accuracy for k-NN classifier\n",
    "print(\"\\nk-NN Classifier:\")\n",
    "print(classification_report(y_test, y_pred_knn))\n",
    "accuracy_knn = accuracy_score(y_test, y_pred_knn)\n",
    "print(\"Accuracy:\", accuracy_knn)"
   ]
  },
  {
   "cell_type": "markdown",
   "id": "a6e6957e",
   "metadata": {},
   "source": [
    "### Feature Engineering\n",
    "**Challenge**: Most of our project was done with the CSV file so early on we struggled with a \"value error\" telling us that we needed a numerical data.\n",
    "\n",
    "**Solution**: Converted the values to float point to work with the data and since switching to the pickle file this hasnt impacted the code so we didnt change it."
   ]
  },
  {
   "cell_type": "code",
   "execution_count": 11,
   "id": "a762820f",
   "metadata": {},
   "outputs": [
    {
     "name": "stdout",
     "output_type": "stream",
     "text": [
      "Accuracy with new feature: 0.6\n"
     ]
    }
   ],
   "source": [
    "# Function to compute absolute difference between front_left and front_right sensor values\n",
    "def compute_sensor_difference(row):\n",
    "    front_left = float(row['front_left'])  # Convert 'front_left' sensor reading to float\n",
    "    front_right = float(row['front_right'])  # Convert 'front_right' sensor reading to float\n",
    "    return abs(front_left - front_right)  # Compute the absolute difference and returns the result\n",
    "\n",
    "\n",
    "# Loop to compute sensor difference for each data point and add it to the dataset\n",
    "for row in data:\n",
    "    row['sensor_difference'] = compute_sensor_difference(row)\n",
    "\n",
    "# Update X with the new feature\n",
    "X_with_new_feature = [[row['front_left'], row['front_right'], row['sensor_difference']] for row in data]\n",
    "\n",
    "# Split the updated data into training and test sets\n",
    "X_train_new, X_test_new, y_train_new, y_test_new = train_test_split(X_with_new_feature, y, test_size=0.3)\n",
    "\n",
    "# Convert string values to floating-point numbers for X_train_new\n",
    "X_train_new = [[float(value) for value in row] for row in X_train_new]\n",
    "\n",
    "# Convert string values to floating-point numbers for X_test_new\n",
    "X_test_new = [[float(value) for value in row] for row in X_test_new]\n",
    "\n",
    "# Train the KNN classifier with the updated dataset\n",
    "knn_new = KNeighborsClassifier(n_neighbors=7)\n",
    "knn_new.fit(X_train_new, y_train_new)\n",
    "\n",
    "# The accuracy of the model with the new feature\n",
    "y_pred_new = knn_new.predict(X_test_new)\n",
    "accuracy_new = accuracy_score(y_test_new, y_pred_new)\n",
    "print(\"Accuracy with new feature:\", accuracy_new)"
   ]
  },
  {
   "cell_type": "code",
   "execution_count": 12,
   "id": "46f674dc",
   "metadata": {},
   "outputs": [
    {
     "name": "stdout",
     "output_type": "stream",
     "text": [
      "Cross Validation Scores:  ['83.33%', '83.33%', '66.67%', '50.00%', '33.33%', '80.00%', '20.00%', '60.00%', '80.00%']\n",
      "Average CV Score:  61.85%\n",
      "Number of CV Scores used in Average:  9\n"
     ]
    }
   ],
   "source": [
    "# Split the data into training and test sets.\n",
    "\n",
    "X = [[float(row['front_left']), float(row['front_right'])] for row in data]\n",
    "y = [row['label'] for row in data]\n",
    "\n",
    "X_train, X_test, y_train, y_test = train_test_split(X, y, test_size=0.3)\n",
    "\n",
    "k_folds = KFold(n_splits = 9)\n",
    "\n",
    "# Calculate cross-validation scores\n",
    "accuracy_scores = cross_val_score(knn, X, y, cv=k_folds)\n",
    "\n",
    "k = 3  # For simplicity, we'll start with k=3.\n",
    "knn = KNeighborsClassifier(n_neighbors=k)\n",
    "\n",
    "# Convert string values to floating-point numbers (data from csv are recongnized as strings)\n",
    "X_train = [[float(value) for value in row] for row in X_train]\n",
    "X_test = [[float(value) for value in row] for row in X_test]\n",
    "\n",
    "print(\"Cross Validation Scores: \", [f\"{score:.2%}\" for score in accuracy_scores])\n",
    "print(\"Average CV Score: \", f\"{accuracy_scores.mean():.2%}\")\n",
    "print(\"Number of CV Scores used in Average: \", len(accuracy_scores))"
   ]
  },
  {
   "cell_type": "code",
   "execution_count": 13,
   "id": "d7e021ac",
   "metadata": {
    "scrolled": false
   },
   "outputs": [],
   "source": [
    "import numpy as np\n",
    "\n",
    "def plot_confusion_matrix(y_true, y_pred, normalize=False, cmap=plt.cm.Blues):\n",
    "   \n",
    "    # Compute confusion matrix\n",
    "    cm = confusion_matrix(y_true, y_pred)\n",
    "\n",
    "    # Plot confusion matrix\n",
    "    plt.figure(figsize=(8, 6))\n",
    "    plt.imshow(cm, interpolation='nearest', cmap=cmap)\n",
    "    plt.title('Confusion Matrix')\n",
    "    plt.colorbar()\n",
    "    tick_marks = np.arange(len(conf_matrix))\n",
    "    plt.xticks(tick_marks, ['Predicted Negative', 'Predicted Positive'])\n",
    "    plt.yticks(tick_marks, ['Actual Negative', 'Actual Positive'])\n",
    "\n",
    "    # Add annotations\n",
    "    thresh = cm.max() / 2.\n",
    "    for i, j in np.ndindex(cm.shape):\n",
    "        plt.text(j, i, format(cm[i, j], fmt),\n",
    "                 horizontalalignment=\"center\",\n",
    "                 color=\"white\" if cm[i, j] > thresh else \"black\")\n",
    "\n",
    "    plt.xlabel('Predicted Label')\n",
    "    plt.ylabel('True Label')\n",
    "    plt.tight_layout()\n",
    "    plt.show()"
   ]
  },
  {
   "cell_type": "markdown",
   "id": "14b9b983",
   "metadata": {},
   "source": []
  },
  {
   "cell_type": "code",
   "execution_count": null,
   "id": "e854da04",
   "metadata": {},
   "outputs": [],
   "source": [
    "def classify_obstacle():\n",
    "    # Read from front infrared sensors.\n",
    "    front_left = zumi.get_IR_data(IR_FRONT_LEFT)\n",
    "    front_right = zumi.get_IR_data(IR_FRONT_RIGHT)\n",
    "    \n",
    "    prediction = knn.predict([[front_left, front_right]])\n",
    "    \n",
    "    # Display the prediction on Zumi's screen\n",
    "    screen.draw_text(\"Pred: \" + str(prediction[0]))\n",
    "    \n",
    "    return prediction[0]\n",
    "\n",
    "print(\"Classifying obstacle...\")\n",
    "obstacle_type = classify_obstacle()\n",
    "obstacle_type\n",
    "\n",
    "if obstacle_type == 'plastic cup':\n",
    "    zumi.signal_right_on()\n",
    "    \n",
    "if obstacle_type == 'soft toy':    \n",
    "    zumi.signal_left_on()"
   ]
  }
 ],
 "metadata": {
  "kernelspec": {
   "display_name": "Python 3 (ipykernel)",
   "language": "python",
   "name": "python3"
  },
  "language_info": {
   "codemirror_mode": {
    "name": "ipython",
    "version": 3
   },
   "file_extension": ".py",
   "mimetype": "text/x-python",
   "name": "python",
   "nbconvert_exporter": "python",
   "pygments_lexer": "ipython3",
   "version": "3.11.5"
  }
 },
 "nbformat": 4,
 "nbformat_minor": 5
}
